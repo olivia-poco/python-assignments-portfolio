{
 "cells": [
  {
   "cell_type": "code",
   "execution_count": 18,
   "id": "6e8c6f49-4a1a-45cd-a251-d957e1253559",
   "metadata": {},
   "outputs": [],
   "source": [
    "import numpy as np\n",
    "from scipy.special import gamma\n",
    "\n",
    "#find mean and standard deviation\n",
    "\n",
    "def mean_std_dev(my_list):\n",
    "    mean= sum(my_list)/len(my_list)\n",
    "\n",
    "    i=0\n",
    "    std_dev = np.sqrt(sum((i-mean)**2 for i in my_list)/len(my_list))\n",
    "\n",
    "    return mean, std_dev\n",
    "    \n",
    "#find t0\n",
    "\n",
    "def t_sub_not(u,mean, std_dev, n):\n",
    "    t0= (mean-u)/(std_dev/np.sqrt(n))\n",
    "    return (t0)\n",
    "    \n",
    "#find t*\n",
    "\n",
    "def t_distribution_pdf(x, nu):\n",
    "\n",
    "    coeff = gamma((nu + 1) / 2) / (np.sqrt(nu * np.pi) * gamma(nu / 2))\n",
    "    density = coeff * (1 + x**2 / nu) ** (-0.5 * (nu + 1))\n",
    "    return density\n",
    "\n",
    "def find_t_star(prob = 0.95, nu = n-1, x_start=0, x_end=20, num_points=10000):\n",
    "\n",
    "    # Define the x values\n",
    "    x = np.linspace(x_start, x_end, num_points)\n",
    "\n",
    "    # Apply the density function to the x values using scipy's t-distribution PDF\n",
    "    y = t_distribution_pdf(x, nu)\n",
    "\n",
    "    # Compute the cumulative distribution function (CDF)\n",
    "    cdf = np.cumsum(y) * (x[1] - x[0])\n",
    "\n",
    "    # Find the t-value where the cumulative probability reaches half of the required probability\n",
    "    target_half_prob = prob / 2\n",
    "    index = np.where(cdf >= target_half_prob)[0][0]\n",
    "\n",
    "    return x[index]\n",
    "    \n",
    "#find whether true or false\n",
    "\n",
    "def if_true(t_star, t_0):\n",
    "   if abs(t_0)<t_star:\n",
    "       return True\n",
    "   else:\n",
    "       return False "
   ]
  },
  {
   "cell_type": "code",
   "execution_count": 27,
   "id": "f834df3d-b893-49b2-ab99-082008abd356",
   "metadata": {},
   "outputs": [
    {
     "name": "stdout",
     "output_type": "stream",
     "text": [
      "mean grade and standard deviation of grades 82.382 9.670372071435514\n",
      "t0 is 2.4139643764397283\n",
      "t* is 2.2522252225222523\n",
      "true or false? False\n"
     ]
    }
   ],
   "source": [
    "grades = [92.64,79.00,84.79,97.41,93.68,65.23,84.50,73.49,73.97,79.11]\n",
    "# Compute the mean and std of grades list\n",
    "mean_grade, std_dev_grade= mean_std_dev(grades)\n",
    "print(\"mean grade and standard deviation of grades:\",mean_grade, std_dev_grade)\n",
    "\n",
    "#let u=75\n",
    "u=75\n",
    "\n",
    "#now find t_0\n",
    "t_0=t_sub_not(u,mean_grade,std_dev_grade, len(grades)) \n",
    "print(\"t0 is\",t_0)\n",
    "\n",
    "#now find t_star\n",
    "t_star=find_t_star(prob = 0.95, nu = len(grades)-1, x_start=0, x_end=20, num_points=10000)\n",
    "print(\"t* is\",t_star)\n",
    "\n",
    "#find true or false\n",
    "print (\"true or false?\",if_true(t_star, t_0))"
   ]
  },
  {
   "cell_type": "code",
   "execution_count": null,
   "id": "fc295242-0162-4bc7-ba72-a24b3082e740",
   "metadata": {},
   "outputs": [],
   "source": []
  }
 ],
 "metadata": {
  "kernelspec": {
   "display_name": "Python 3 (ipykernel)",
   "language": "python",
   "name": "python3"
  },
  "language_info": {
   "codemirror_mode": {
    "name": "ipython",
    "version": 3
   },
   "file_extension": ".py",
   "mimetype": "text/x-python",
   "name": "python",
   "nbconvert_exporter": "python",
   "pygments_lexer": "ipython3",
   "version": "3.12.8"
  }
 },
 "nbformat": 4,
 "nbformat_minor": 5
}
