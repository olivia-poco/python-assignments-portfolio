{
 "cells": [
  {
   "metadata": {
    "ExecuteTime": {
     "end_time": "2024-09-30T03:49:53.174336Z",
     "start_time": "2024-09-30T03:49:53.158299Z"
    }
   },
   "cell_type": "code",
   "source": [
    "x=0.25                        #we can make x whatever we want\n",
    "if 0 <= x <= 1 :                  #but it will only print n and \"pass\" (ie. contine), is x is in the range [0,1] \n",
    "    print (\"x = \" + str(x))\n",
    "    pass\n",
    "else:                             #otherwise, the code will print \"Error\" and will not continue\n",
    "    print (\"Error\")\n",
    "\n",
    "n=0                                  #we are telling the code to start with power n=0\n",
    "error = ((x**(2*n + 1))/(2*n + 1))     #this is the equation n will be plugged into, and the output is our error\n",
    "    \n",
    "while error >= 0.0001:                   #while the error is more than 0.0001, we will repeat the loop. \n",
    "    n = n+1                              #We will do this by increasing n by 1, and plugging the new n into the error equation again\n",
    "    error = ((x**(2*n + 1))/(2*n + 1))\n",
    "        \n",
    "if error <= 0.0001:                       # if the error is less than 0.0001, we are happy and ask it to print n\n",
    "    print (\"n = \" + str(n))                             # ie. when the function is to the power of n, error is less than 0.0001\n",
    "       \n",
    "answer = 0                               #we want to actually calculate the Taylor series equation so we define our variables\n",
    "i=0\n",
    "for i in range (n):\n",
    "    term = (((-1)**i)*(x**(2*i + 1))/(2*i + 1))       # we are asking it to calculate the sum of the Taylor series up to the n number of terms\n",
    "    answer = answer + term                            # here we are accumulating the terms\n",
    "print (\"answer = \" + str(answer))\n",
    "    \n",
    "print (\"Therefore, arctan of \" + str(x) + \" is \" + str(answer) + \" radians \" + \"when n is \" + str(n))  #the str() lets us print our number varibales beside words"
   ],
   "id": "c73b6a7260d99d67",
   "outputs": [
    {
     "name": "stdout",
     "output_type": "stream",
     "text": [
      "x = 0.25\n",
      "n = 3\n",
      "answer = 0.24498697916666665\n",
      "Therefore, arctan of 0.25 is 0.24498697916666665 radians when n is 3\n"
     ]
    }
   ],
   "execution_count": 20
  },
  {
   "metadata": {},
   "cell_type": "code",
   "outputs": [],
   "execution_count": null,
   "source": "",
   "id": "65ce3fbf2b87be33"
  }
 ],
 "metadata": {
  "kernelspec": {
   "display_name": "Python 3",
   "language": "python",
   "name": "python3"
  },
  "language_info": {
   "codemirror_mode": {
    "name": "ipython",
    "version": 2
   },
   "file_extension": ".py",
   "mimetype": "text/x-python",
   "name": "python",
   "nbconvert_exporter": "python",
   "pygments_lexer": "ipython2",
   "version": "2.7.6"
  }
 },
 "nbformat": 4,
 "nbformat_minor": 5
}
