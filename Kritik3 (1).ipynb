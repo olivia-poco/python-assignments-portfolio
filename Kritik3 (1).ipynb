{
 "cells": [
  {
   "cell_type": "code",
   "execution_count": 2,
   "id": "30d8f66c-3db1-4250-8375-8ce4eb6a0629",
   "metadata": {},
   "outputs": [
    {
     "name": "stdout",
     "output_type": "stream",
     "text": [
      "f(x) = x^2: x1 = 1.00000001        x2 = 0.99999999\n",
      "f(x) = sin(x): x1 = 0.7853981733974483       x2 = 0.7853981533974482\n",
      "f(x) = exp(x): x1 = 1e-08       x2 = -1e-08\n"
     ]
    }
   ],
   "source": [
    "import numpy as np\n",
    "\n",
    "def error(f, c, E):\n",
    "    x1 = c + 1e-8  \n",
    "    x2 = c - 1e-8\n",
    "\n",
    "    def approx_derivative(x):\n",
    "        return (f(x1) - f(x2)) / (2 * 1e-8)\n",
    "\n",
    "    def linear_approx(x):\n",
    "        return f(c) + approx_derivative(c) * (x - c)\n",
    "\n",
    "    while abs(f(x1) - linear_approx(x1)) > E:\n",
    "        x1 += 1e-8\n",
    "        if x1 > c + 1:\n",
    "            print (\"no x1 in range\")\n",
    "            break\n",
    "        \n",
    "    while abs(f(x2) - linear_approx(x2)) > E:\n",
    "        x2 -= 1e-8\n",
    "        if x2 > c +1:\n",
    "            print (\"no x2 in range\")\n",
    "            break\n",
    "        \n",
    "    return x1, x2\n",
    "\n",
    "# Test functions\n",
    "def test_function(x):\n",
    "    return x**2\n",
    "\n",
    "def test_function2(x):\n",
    "    return np.sin(x)\n",
    "\n",
    "def test_function3(x):\n",
    "    return np.exp(x)\n",
    "\n",
    "# Test cases\n",
    "c = 1\n",
    "E = 0.1\n",
    "x1, x2 = error(test_function, c, E)\n",
    "print(\"f(x) = x^2: x1 =\", x1, \"       x2 =\", x2)\n",
    "\n",
    "c = np.pi / 4\n",
    "E = 0.05\n",
    "x1, x2 = error(test_function2, c, E)\n",
    "print(\"f(x) = sin(x): x1 =\", x1, \"      x2 =\", x2)\n",
    "\n",
    "c = 0\n",
    "E = 0.01\n",
    "x1, x2 = error(test_function3, c, E)\n",
    "print(\"f(x) = exp(x): x1 =\", x1, \"      x2 =\", x2)\n",
    "\n"
   ]
  },
  {
   "cell_type": "code",
   "execution_count": null,
   "id": "0b35f6da-d8c2-4abe-8cf3-e47b6f2760f1",
   "metadata": {},
   "outputs": [],
   "source": []
  }
 ],
 "metadata": {
  "kernelspec": {
   "display_name": "Python 3 (ipykernel)",
   "language": "python",
   "name": "python3"
  },
  "language_info": {
   "codemirror_mode": {
    "name": "ipython",
    "version": 3
   },
   "file_extension": ".py",
   "mimetype": "text/x-python",
   "name": "python",
   "nbconvert_exporter": "python",
   "pygments_lexer": "ipython3",
   "version": "3.11.9"
  }
 },
 "nbformat": 4,
 "nbformat_minor": 5
}
