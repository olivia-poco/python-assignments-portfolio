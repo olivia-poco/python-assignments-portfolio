{
 "cells": [
  {
   "cell_type": "code",
   "execution_count": 8,
   "id": "bee3e53f-549a-4784-a49c-a34e86220c63",
   "metadata": {},
   "outputs": [
    {
     "name": "stdout",
     "output_type": "stream",
     "text": [
      "for g(x) 0.2698741376\n",
      "for h(x) 2.0000000000\n",
      "for f(x) 3.1415926536\n",
      "for i(x) 7.0000000000\n"
     ]
    },
    {
     "name": "stderr",
     "output_type": "stream",
     "text": [
      "/tmp/ipykernel_858/398002767.py:13: RuntimeWarning: divide by zero encountered in log\n",
      "  return np.exp(x)+ np.log(x)\n"
     ]
    }
   ],
   "source": [
    "import numpy as np\n",
    "def roots(f,a,b):\n",
    "    error = 0.0000000001\n",
    "    m = (b+a)/2\n",
    "    while b-a>= error:\n",
    "        if f(a)*f(m) < 0:\n",
    "            b=m\n",
    "        else:\n",
    "            a = m\n",
    "        m= ((b+a)/2)\n",
    "    return m\n",
    "def g(x):\n",
    "    return np.exp(x)+ np.log(x)\n",
    "print (\"for g(x) {:.10f}\".format(roots(g, 0, 1)))\n",
    "\n",
    "def h(x):\n",
    "    return np.arctan(x) - x**2 \n",
    "print (\"for h(x) {:.10f}\" .format(roots(h,0,2)))\n",
    "\n",
    "def f(x):\n",
    "    return (np.sin(x))/(np.log(x))\n",
    "print (\"for f(x) {:.10f}\".format(roots(f,3,4)))\n",
    "\n",
    "def i(x):\n",
    "    return (np.log(np.cos(x)))\n",
    "print (\"for i(x) {:.10f}\".format(roots (i,5,7)))"
   ]
  },
  {
   "cell_type": "code",
   "execution_count": null,
   "id": "2400e130-605d-43ef-9bd7-73852577f033",
   "metadata": {},
   "outputs": [],
   "source": []
  },
  {
   "cell_type": "code",
   "execution_count": null,
   "id": "b9f73af9-bde0-4486-820d-d222ae5d21da",
   "metadata": {},
   "outputs": [],
   "source": []
  }
 ],
 "metadata": {
  "kernelspec": {
   "display_name": "Python 3 (ipykernel)",
   "language": "python",
   "name": "python3"
  },
  "language_info": {
   "codemirror_mode": {
    "name": "ipython",
    "version": 3
   },
   "file_extension": ".py",
   "mimetype": "text/x-python",
   "name": "python",
   "nbconvert_exporter": "python",
   "pygments_lexer": "ipython3",
   "version": "3.11.9"
  }
 },
 "nbformat": 4,
 "nbformat_minor": 5
}
